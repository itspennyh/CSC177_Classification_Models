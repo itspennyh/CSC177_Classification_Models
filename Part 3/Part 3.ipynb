{
  "metadata": {
    "kernelspec": {
      "name": "python",
      "display_name": "Python (Pyodide)",
      "language": "python"
    },
    "language_info": {
      "codemirror_mode": {
        "name": "python",
        "version": 3
      },
      "file_extension": ".py",
      "mimetype": "text/x-python",
      "name": "python",
      "nbconvert_exporter": "python",
      "pygments_lexer": "ipython3",
      "version": "3.8"
    }
  },
  "nbformat_minor": 4,
  "nbformat": 4,
  "cells": [
    {
      "cell_type": "markdown",
      "source": "## Part 3: Model Evaluation and Comparison",
      "metadata": {}
    },
    {
      "cell_type": "markdown",
      "source": "In Part 3, we used predictive modeling aspect of our churn prediction project and to evaluate various machine learning models to determine which performs best at predicting customer churn based on the dataset provided.",
      "metadata": {}
    },
    {
      "cell_type": "markdown",
      "source": "The dataset we used was Churn_Modelling.csv\n\nWe used LabelEncoder to numerically transform the Geography and Gender columns, converting categorical information into a format understandable by our models. Columns like RowNumber, CustomerId, and Surname were removed since they contributed no predictive value to the churn outcome. To standardize the range of our continuous input features, we employed StandardScaler. This step is particularly beneficial for distance-based models and can significantly impact their performance.\n\nMachine Learning Models:\nNaïve Bayes (GaussianNB),\nK-Nearest Neighbors (KNN),\nSupport Vector Machine (SVM),\nDecision Tree, and \nLogistic Regression.\nEach model was trained on the preprocessed training dataset and evaluated on a separate testing dataset to gauge its predictive accuracy.\n\nWhen we created the model For KNN, the K value for K (neighbors) and that gave us the highest accuracy was 20.",
      "metadata": {}
    },
    {
      "cell_type": "code",
      "source": "import pandas as pd\nfrom sklearn.model_selection import train_test_split\nfrom sklearn.preprocessing import LabelEncoder, StandardScaler\nfrom sklearn.naive_bayes import GaussianNB\nfrom sklearn.neighbors import KNeighborsClassifier\nfrom sklearn.svm import SVC\nfrom sklearn.tree import DecisionTreeClassifier\nfrom sklearn.linear_model import LogisticRegression\nfrom sklearn.metrics import accuracy_score\n\n# Load the dataset\ndf = pd.read_csv('Churn_Modelling.csv')\n\n# Encode categorical variables\nlabel_encoder = LabelEncoder()\ndf['Geography'] = label_encoder.fit_transform(df['Geography'])\ndf['Gender'] = label_encoder.fit_transform(df['Gender'])\n\n# Dropping irrelevant features\ndf = df.drop(['RowNumber', 'CustomerId', 'Surname'], axis=1)\n\n# Splitting the dataset\nX = df.drop('Exited', axis=1)\ny = df['Exited']\nX_train, X_test, y_train, y_test = train_test_split(X, y, test_size=0.2, random_state=42)\n\n# Feature scaling\nscaler = StandardScaler()\nX_train = scaler.fit_transform(X_train)\nX_test = scaler.transform(X_test)\n\n# Training and evaluating models\nmodels = {\n    'Naïve Bayes': GaussianNB(),\n    'KNN': KNeighborsClassifier(n_neighbors=20),\n    'SVM': SVC(),\n    'Decision Tree': DecisionTreeClassifier(),\n    'Logistic Regression': LogisticRegression(max_iter=1000)\n}\n\naccuracies = {}\nfor name, model in models.items():\n    model.fit(X_train, y_train)\n    predictions = model.predict(X_test)\n    accuracies[name] = accuracy_score(y_test, predictions)\n\n# Displaying accuracies\nfor model, acc in accuracies.items():\n    print(f\"{model}: {acc * 100:.2f}%\")",
      "metadata": {
        "trusted": true
      },
      "outputs": [
        {
          "name": "stdout",
          "text": "Naïve Bayes: 82.85%\nKNN: 84.25%\nSVM: 85.75%\nDecision Tree: 77.70%\nLogistic Regression: 81.50%\n",
          "output_type": "stream"
        }
      ],
      "execution_count": 3
    },
    {
      "cell_type": "code",
      "source": "Naïve Bayes: 82.85%\nKNN (K-Value = 20): 84.25%\nSVM: 85.75%\nDecision Tree: 77.70%\nLogistic Regression: 81.50%",
      "metadata": {
        "trusted": true
      },
      "outputs": [],
      "execution_count": null
    }
  ]
}