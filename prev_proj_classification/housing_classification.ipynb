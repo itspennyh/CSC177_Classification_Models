{
 "cells": [
  {
   "cell_type": "markdown",
   "id": "3cd75ccd-25d1-4221-a0fe-6f4febc02c85",
   "metadata": {},
   "source": [
    "# Classification Models on Our Dataset from the Previous Project\n",
    "#### Authors: Rahul Gupta & Maddie Subramanian\n",
    "Using the dataset from our previous project, we will first perform data preprocessing before moving on to apply the following classification models and measure their accuracy: Naïve Bayes, Decision Tree (DT), K-Nearest Neighbor (KNN), Support Vector Machines (SVM), and Logistic Regression (Logit).\n",
    "\n",
    "The dataset we used in the last project (linear regression project) was a housing dataset that contained data consisting of house prices and factors that influenced house prices such as average area income, area population, and more."
   ]
  },
  {
   "cell_type": "markdown",
   "id": "ba7541a2-b836-4fe6-866e-7d0e21158a79",
   "metadata": {},
   "source": [
    "## Data Preprocessing - Rahul\n",
    "Before applying the models, we need to preprocess the data and modify it so it will fit the classification models, since the housing data has mainly continuous data. We will need to perform standard preprocessing steps and then move on to converting from continuous to categorical."
   ]
  },
  {
   "cell_type": "markdown",
   "id": "7e9e3d1f-5742-485b-b748-c60ff03c9e1c",
   "metadata": {},
   "source": [
    "### Reading the Data\n",
    "First we need to read the data and load it into a pandas dataframe so we can preprocess and then apply models."
   ]
  },
  {
   "cell_type": "code",
   "execution_count": 1,
   "id": "8735509e-c805-4a59-b695-430677cc50b5",
   "metadata": {},
   "outputs": [
    {
     "data": {
      "text/html": [
       "<div>\n",
       "<style scoped>\n",
       "    .dataframe tbody tr th:only-of-type {\n",
       "        vertical-align: middle;\n",
       "    }\n",
       "\n",
       "    .dataframe tbody tr th {\n",
       "        vertical-align: top;\n",
       "    }\n",
       "\n",
       "    .dataframe thead th {\n",
       "        text-align: right;\n",
       "    }\n",
       "</style>\n",
       "<table border=\"1\" class=\"dataframe\">\n",
       "  <thead>\n",
       "    <tr style=\"text-align: right;\">\n",
       "      <th></th>\n",
       "      <th>Avg. Area Income</th>\n",
       "      <th>Avg. Area House Age</th>\n",
       "      <th>Avg. Area Number of Rooms</th>\n",
       "      <th>Avg. Area Number of Bedrooms</th>\n",
       "      <th>Area Population</th>\n",
       "      <th>Price</th>\n",
       "      <th>Address</th>\n",
       "    </tr>\n",
       "  </thead>\n",
       "  <tbody>\n",
       "    <tr>\n",
       "      <th>0</th>\n",
       "      <td>79545.458574</td>\n",
       "      <td>5.682861</td>\n",
       "      <td>7.009188</td>\n",
       "      <td>4.09</td>\n",
       "      <td>23086.800503</td>\n",
       "      <td>1.059034e+06</td>\n",
       "      <td>208 Michael Ferry Apt. 674\\r\\nLaurabury, NE 37...</td>\n",
       "    </tr>\n",
       "    <tr>\n",
       "      <th>1</th>\n",
       "      <td>79248.642455</td>\n",
       "      <td>6.002900</td>\n",
       "      <td>6.730821</td>\n",
       "      <td>3.09</td>\n",
       "      <td>40173.072174</td>\n",
       "      <td>1.505891e+06</td>\n",
       "      <td>188 Johnson Views Suite 079\\r\\nLake Kathleen, ...</td>\n",
       "    </tr>\n",
       "    <tr>\n",
       "      <th>2</th>\n",
       "      <td>61287.067179</td>\n",
       "      <td>5.865890</td>\n",
       "      <td>8.512727</td>\n",
       "      <td>5.13</td>\n",
       "      <td>36882.159400</td>\n",
       "      <td>1.058988e+06</td>\n",
       "      <td>9127 Elizabeth Stravenue\\r\\nDanieltown, WI 064...</td>\n",
       "    </tr>\n",
       "    <tr>\n",
       "      <th>3</th>\n",
       "      <td>63345.240046</td>\n",
       "      <td>7.188236</td>\n",
       "      <td>5.586729</td>\n",
       "      <td>3.26</td>\n",
       "      <td>34310.242831</td>\n",
       "      <td>1.260617e+06</td>\n",
       "      <td>USS Barnett\\r\\nFPO AP 44820</td>\n",
       "    </tr>\n",
       "    <tr>\n",
       "      <th>4</th>\n",
       "      <td>59982.197226</td>\n",
       "      <td>5.040555</td>\n",
       "      <td>7.839388</td>\n",
       "      <td>4.23</td>\n",
       "      <td>26354.109472</td>\n",
       "      <td>6.309435e+05</td>\n",
       "      <td>USNS Raymond\\r\\nFPO AE 09386</td>\n",
       "    </tr>\n",
       "  </tbody>\n",
       "</table>\n",
       "</div>"
      ],
      "text/plain": [
       "   Avg. Area Income  Avg. Area House Age  Avg. Area Number of Rooms  \\\n",
       "0      79545.458574             5.682861                   7.009188   \n",
       "1      79248.642455             6.002900                   6.730821   \n",
       "2      61287.067179             5.865890                   8.512727   \n",
       "3      63345.240046             7.188236                   5.586729   \n",
       "4      59982.197226             5.040555                   7.839388   \n",
       "\n",
       "   Avg. Area Number of Bedrooms  Area Population         Price  \\\n",
       "0                          4.09     23086.800503  1.059034e+06   \n",
       "1                          3.09     40173.072174  1.505891e+06   \n",
       "2                          5.13     36882.159400  1.058988e+06   \n",
       "3                          3.26     34310.242831  1.260617e+06   \n",
       "4                          4.23     26354.109472  6.309435e+05   \n",
       "\n",
       "                                             Address  \n",
       "0  208 Michael Ferry Apt. 674\\r\\nLaurabury, NE 37...  \n",
       "1  188 Johnson Views Suite 079\\r\\nLake Kathleen, ...  \n",
       "2  9127 Elizabeth Stravenue\\r\\nDanieltown, WI 064...  \n",
       "3                        USS Barnett\\r\\nFPO AP 44820  \n",
       "4                       USNS Raymond\\r\\nFPO AE 09386  "
      ]
     },
     "execution_count": 1,
     "metadata": {},
     "output_type": "execute_result"
    }
   ],
   "source": [
    "import numpy as np\n",
    "import matplotlib.pyplot as plt\n",
    "import pandas as pd\n",
    "\n",
    "housing_df = pd.read_csv('./data/Housing.csv')\n",
    "housing_df.head()"
   ]
  },
  {
   "cell_type": "markdown",
   "id": "0a138909-36b7-4006-9865-446fa5c9d3f3",
   "metadata": {},
   "source": [
    "### Dropping Columns & Missing Values\n",
    "In the last project using this dataset, we determined that house addresses would not have a significant influence on house prices and could be dropped, so we will be doing this again.\n",
    "\n",
    "We will also check and deal with missing values. Just like last time, there are no missing values."
   ]
  },
  {
   "cell_type": "code",
   "execution_count": 2,
   "id": "f5ea584f-33f0-4fda-9438-42dbd192591a",
   "metadata": {},
   "outputs": [
    {
     "name": "stdout",
     "output_type": "stream",
     "text": [
      "Avg. Area Income                0\n",
      "Avg. Area House Age             0\n",
      "Avg. Area Number of Rooms       0\n",
      "Avg. Area Number of Bedrooms    0\n",
      "Area Population                 0\n",
      "Price                           0\n",
      "dtype: int64\n"
     ]
    }
   ],
   "source": [
    "# Drop column\n",
    "housing_df = housing_df.drop('Address', axis=1)\n",
    "\n",
    "# Check for missing values\n",
    "missing_values = housing_df.isna().sum()\n",
    "print(missing_values)"
   ]
  },
  {
   "cell_type": "markdown",
   "id": "e1ec906d-7912-4f2d-91ae-2325f64eb422",
   "metadata": {},
   "source": [
    "### Z-Score Normalization & Outliers\n",
    "We will normalize the dataset and remove any outliers, turning values into z scores."
   ]
  },
  {
   "cell_type": "code",
   "execution_count": 3,
   "id": "de76734e-c493-436c-8477-4075ad3803b4",
   "metadata": {},
   "outputs": [
    {
     "name": "stdout",
     "output_type": "stream",
     "text": [
      "Entries before outliers = 5000\n",
      "Entries after outliers = 4943\n",
      "Entries removed = 57\n"
     ]
    }
   ],
   "source": [
    "# Normalize\n",
    "normal_df = (housing_df - housing_df.mean())/housing_df.std()\n",
    "\n",
    "# Remove Outliers\n",
    "normal_df = normal_df.loc[((normal_df > -3).sum(axis=1)==6) & ((normal_df <= 3).sum(axis=1)==6)]\n",
    "\n",
    "print('Entries before outliers = %d' % (housing_df.shape[0]))\n",
    "print('Entries after outliers = %d' % (normal_df.shape[0]))\n",
    "print('Entries removed = %d' % (housing_df.shape[0] - normal_df.shape[0]))"
   ]
  },
  {
   "cell_type": "markdown",
   "id": "107ec66f-f7ac-47b0-83fc-aa487762f053",
   "metadata": {},
   "source": [
    "### Discretization\n",
    "In this step, we will use bins and labels to turn continuous data into categorical data so we can use it to fit the classification models. This will group continuous data into bins and assign that bin an appropriate label."
   ]
  },
  {
   "cell_type": "code",
   "execution_count": 4,
   "id": "865cfdfd-8084-4ded-98d2-f132e39644c8",
   "metadata": {},
   "outputs": [
    {
     "name": "stdout",
     "output_type": "stream",
     "text": [
      "      Price Price Category\n",
      "0 -0.490032   Medium Price\n",
      "1  0.775431     High Price\n",
      "2 -0.490162   Medium Price\n",
      "3  0.080835     High Price\n",
      "4 -1.702348      Low Price\n"
     ]
    }
   ],
   "source": [
    "# Define bin edges\n",
    "bins = [-3, -1.5, 0, 1.5, 3]\n",
    "\n",
    "# Define labels for each bin\n",
    "labels = ['Low Price', 'Medium Price', 'High Price', 'Very High Price']\n",
    "\n",
    "# Discretize the Price column into categories\n",
    "normal_df['Price Category'] = pd.cut(normal_df['Price'], bins=bins, labels=labels)\n",
    "\n",
    "# Display the first few rows\n",
    "print(normal_df[['Price', 'Price Category']].head())"
   ]
  },
  {
   "cell_type": "markdown",
   "id": "14ab57b1-e8ae-4e59-bf40-24fb9336e9e1",
   "metadata": {},
   "source": [
    "## Naïve Bayes Model - Rahul"
   ]
  },
  {
   "cell_type": "code",
   "execution_count": null,
   "id": "651f5b35-375b-454d-a38f-a32e3a8afc2a",
   "metadata": {},
   "outputs": [],
   "source": []
  },
  {
   "cell_type": "markdown",
   "id": "23d9eac6-5bed-4c24-b2f0-06d41c9de79a",
   "metadata": {},
   "source": [
    "## Decision Tree (DT) Classification Model - Rahul"
   ]
  },
  {
   "cell_type": "code",
   "execution_count": null,
   "id": "89326e16-d3f2-417c-9d59-7571e104ed5e",
   "metadata": {},
   "outputs": [],
   "source": []
  }
 ],
 "metadata": {
  "kernelspec": {
   "display_name": "Python 3 (ipykernel)",
   "language": "python",
   "name": "python3"
  },
  "language_info": {
   "codemirror_mode": {
    "name": "ipython",
    "version": 3
   },
   "file_extension": ".py",
   "mimetype": "text/x-python",
   "name": "python",
   "nbconvert_exporter": "python",
   "pygments_lexer": "ipython3",
   "version": "3.11.7"
  }
 },
 "nbformat": 4,
 "nbformat_minor": 5
}
